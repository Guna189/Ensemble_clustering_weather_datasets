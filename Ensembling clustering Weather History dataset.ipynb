{
 "cells": [
  {
   "cell_type": "markdown",
   "id": "0b5d9f91",
   "metadata": {},
   "source": [
    "# CODE\n",
    "This code implements cluster analysis using different clustering algorithms and evaluates their performance using metrics like Davies-Bouldin Score and Silhouette Score. The algorithms used include KMeans Clustering, Affinity Propagation Clustering, Mean Shift Clustering, Agglomerative Clustering, Spectral Clustering, OPTICS Clustering, Gaussian Clustering (GaussianMixture), and BIRCH Clustering. Additionally, an ensemble approach is used to combine the results of two clustering algorithms for improved performance.\n",
    "\n",
    "Prerequisites:\n",
    "Ensure that the required libraries are installed before running the code:\n",
    "numpy\n",
    "pandas\n",
    "seaborn\n",
    "matplotlib\n",
    "scikit-learn\n",
    "scipy\n",
    "dask\n",
    "yellowbrick\n",
    "\n",
    "\n",
    "Data Preparation:\n",
    "    \n",
    "The code expects a CSV file named 'weatherHistory.csv', containing the dataset for clustering analysis.\n",
    "\n",
    "The dataset should have columns 'Summary', 'Precip Type', and 'Humidity'.\n",
    "\n",
    "The columns 'Formatted Date' and 'Daily Summary' are dropped as they are not used for clustering.\n",
    "\n",
    "Data is split into training (96%) and testing (4%) datasets to evaluate the performance of clustering algorithms.\n",
    "\n",
    "Label encoding is applied to the 'Summary' and 'Precip Type' columns.\n",
    "\n",
    "Data cleaning is performed to remove rows with missing values and outliers.\n",
    "\n",
    "\n",
    "\n",
    "Clustering Algorithm Evaluation\n",
    "KMeans Clustering: The code uses the Elbow method to determine the optimal number of clusters (K) and calculates the Davies-Bouldin and Silhouette Scores for K=2 to K=10.\n",
    "\n",
    "Affinity Propagation Clustering, Mean Shift Clustering, Agglomerative Clustering, Spectral Clustering, OPTICS Clustering, Gaussian Clustering, and BIRCH Clustering: Each algorithm is applied to the dataset, and the Davies-Bouldin and Silhouette Scores are calculated.\n",
    "\n",
    "Ensemble Clustering: An ensemble of Mean Shift Clustering and BIRCH Clustering is created by combining their clustering results. The Davies-Bouldin and Silhouette Scores for the ensemble approach are computed.\n",
    "\n",
    "Usage\n",
    "Make sure the 'weatherHistory.csv' file containing the dataset is available in the working directory.\n",
    "\n",
    "Install the required libraries mentioned in the prerequisites section.\n",
    "\n",
    "Copy and paste the provided code into a Python script or a Jupyter Notebook.\n",
    "\n",
    "Run the code to execute the cluster analysis and obtain the clustering results and evaluation metrics.\n",
    "\n",
    "\n",
    "\n",
    "\n",
    "Interpretation of Results\n",
    "The Davies-Bouldin Score and Silhouette Score are used to evaluate the performance of each clustering algorithm. Lower Davies-Bouldin Scores and higher Silhouette Scores generally indicate better clustering performance.\n",
    "\n",
    "The Elbow method is used for KMeans Clustering to find the optimal number of clusters (K). The elbow point represents the optimal K value based on the Davies-Bouldin Score.\n",
    "\n",
    "The Dendrogram is generated for Hierarchical Clustering to visualize the clustering results.\n",
    "\n",
    "The Ensemble Clustering combines the results of Mean Shift Clustering and BIRCH Clustering to create an improved clustering model.\n",
    "\n",
    "\n",
    "\n",
    "Conclusion\n",
    "This code allows users to perform cluster analysis using various clustering algorithms and evaluate their performance on the given dataset. By comparing the results of different clustering approaches, users can choose the most suitable algorithm for their specific dataset and gain insights into data patterns and structures. The ensemble approach offers a way to improve clustering accuracy by combining the strengths of multiple algorithms."
   ]
  },
  {
   "cell_type": "code",
   "execution_count": 1,
   "id": "aa6e0734",
   "metadata": {},
   "outputs": [],
   "source": [
    "import numpy as np \n",
    "import pandas as pd \n",
    "import seaborn as sns\n",
    "from matplotlib import pyplot as plt\n",
    "from sklearn.cluster import KMeans\n",
    "from sklearn.cluster import AffinityPropagation\n",
    "from sklearn.cluster import MeanShift\n",
    "from sklearn.cluster import AgglomerativeClustering\n",
    "from sklearn.cluster import SpectralClustering\n",
    "from sklearn.cluster import OPTICS\n",
    "from sklearn.mixture import GaussianMixture\n",
    "from sklearn.cluster import Birch\n",
    "import scipy.cluster.hierarchy as shc\n",
    "from sklearn.metrics import davies_bouldin_score, silhouette_score\n",
    "from scipy.stats import mode\n",
    "\n",
    "from matplotlib import pyplot\n",
    "from yellowbrick.cluster import KElbowVisualizer\n",
    "from sklearn.preprocessing import LabelEncoder\n",
    "from sklearn.metrics import classification_report\n",
    "from sklearn.decomposition import PCA\n",
    "import dask.dataframe as dd\n",
    "from sklearn.metrics import accuracy_score"
   ]
  },
  {
   "cell_type": "code",
   "execution_count": 27,
   "id": "e8028649",
   "metadata": {},
   "outputs": [],
   "source": [
    "df = pd.read_csv('weatherHistory.csv')"
   ]
  },
  {
   "cell_type": "code",
   "execution_count": 28,
   "id": "4deabeb4",
   "metadata": {
    "scrolled": true
   },
   "outputs": [
    {
     "data": {
      "text/html": [
       "<div>\n",
       "<style scoped>\n",
       "    .dataframe tbody tr th:only-of-type {\n",
       "        vertical-align: middle;\n",
       "    }\n",
       "\n",
       "    .dataframe tbody tr th {\n",
       "        vertical-align: top;\n",
       "    }\n",
       "\n",
       "    .dataframe thead th {\n",
       "        text-align: right;\n",
       "    }\n",
       "</style>\n",
       "<table border=\"1\" class=\"dataframe\">\n",
       "  <thead>\n",
       "    <tr style=\"text-align: right;\">\n",
       "      <th></th>\n",
       "      <th>Formatted Date</th>\n",
       "      <th>Summary</th>\n",
       "      <th>Precip Type</th>\n",
       "      <th>Temperature (C)</th>\n",
       "      <th>Apparent Temperature (C)</th>\n",
       "      <th>Humidity</th>\n",
       "      <th>Wind Speed (km/h)</th>\n",
       "      <th>Wind Bearing (degrees)</th>\n",
       "      <th>Visibility (km)</th>\n",
       "      <th>Loud Cover</th>\n",
       "      <th>Pressure (millibars)</th>\n",
       "      <th>Daily Summary</th>\n",
       "    </tr>\n",
       "  </thead>\n",
       "  <tbody>\n",
       "    <tr>\n",
       "      <th>0</th>\n",
       "      <td>2006-04-01 00:00:00.000 +0200</td>\n",
       "      <td>Partly Cloudy</td>\n",
       "      <td>rain</td>\n",
       "      <td>9.472222</td>\n",
       "      <td>7.388889</td>\n",
       "      <td>0.89</td>\n",
       "      <td>14.1197</td>\n",
       "      <td>251.0</td>\n",
       "      <td>15.8263</td>\n",
       "      <td>0.0</td>\n",
       "      <td>1015.13</td>\n",
       "      <td>Partly cloudy throughout the day.</td>\n",
       "    </tr>\n",
       "    <tr>\n",
       "      <th>1</th>\n",
       "      <td>2006-04-01 01:00:00.000 +0200</td>\n",
       "      <td>Partly Cloudy</td>\n",
       "      <td>rain</td>\n",
       "      <td>9.355556</td>\n",
       "      <td>7.227778</td>\n",
       "      <td>0.86</td>\n",
       "      <td>14.2646</td>\n",
       "      <td>259.0</td>\n",
       "      <td>15.8263</td>\n",
       "      <td>0.0</td>\n",
       "      <td>1015.63</td>\n",
       "      <td>Partly cloudy throughout the day.</td>\n",
       "    </tr>\n",
       "    <tr>\n",
       "      <th>2</th>\n",
       "      <td>2006-04-01 02:00:00.000 +0200</td>\n",
       "      <td>Mostly Cloudy</td>\n",
       "      <td>rain</td>\n",
       "      <td>9.377778</td>\n",
       "      <td>9.377778</td>\n",
       "      <td>0.89</td>\n",
       "      <td>3.9284</td>\n",
       "      <td>204.0</td>\n",
       "      <td>14.9569</td>\n",
       "      <td>0.0</td>\n",
       "      <td>1015.94</td>\n",
       "      <td>Partly cloudy throughout the day.</td>\n",
       "    </tr>\n",
       "    <tr>\n",
       "      <th>3</th>\n",
       "      <td>2006-04-01 03:00:00.000 +0200</td>\n",
       "      <td>Partly Cloudy</td>\n",
       "      <td>rain</td>\n",
       "      <td>8.288889</td>\n",
       "      <td>5.944444</td>\n",
       "      <td>0.83</td>\n",
       "      <td>14.1036</td>\n",
       "      <td>269.0</td>\n",
       "      <td>15.8263</td>\n",
       "      <td>0.0</td>\n",
       "      <td>1016.41</td>\n",
       "      <td>Partly cloudy throughout the day.</td>\n",
       "    </tr>\n",
       "    <tr>\n",
       "      <th>4</th>\n",
       "      <td>2006-04-01 04:00:00.000 +0200</td>\n",
       "      <td>Mostly Cloudy</td>\n",
       "      <td>rain</td>\n",
       "      <td>8.755556</td>\n",
       "      <td>6.977778</td>\n",
       "      <td>0.83</td>\n",
       "      <td>11.0446</td>\n",
       "      <td>259.0</td>\n",
       "      <td>15.8263</td>\n",
       "      <td>0.0</td>\n",
       "      <td>1016.51</td>\n",
       "      <td>Partly cloudy throughout the day.</td>\n",
       "    </tr>\n",
       "  </tbody>\n",
       "</table>\n",
       "</div>"
      ],
      "text/plain": [
       "                  Formatted Date        Summary Precip Type  Temperature (C)  \\\n",
       "0  2006-04-01 00:00:00.000 +0200  Partly Cloudy        rain         9.472222   \n",
       "1  2006-04-01 01:00:00.000 +0200  Partly Cloudy        rain         9.355556   \n",
       "2  2006-04-01 02:00:00.000 +0200  Mostly Cloudy        rain         9.377778   \n",
       "3  2006-04-01 03:00:00.000 +0200  Partly Cloudy        rain         8.288889   \n",
       "4  2006-04-01 04:00:00.000 +0200  Mostly Cloudy        rain         8.755556   \n",
       "\n",
       "   Apparent Temperature (C)  Humidity  Wind Speed (km/h)  \\\n",
       "0                  7.388889      0.89            14.1197   \n",
       "1                  7.227778      0.86            14.2646   \n",
       "2                  9.377778      0.89             3.9284   \n",
       "3                  5.944444      0.83            14.1036   \n",
       "4                  6.977778      0.83            11.0446   \n",
       "\n",
       "   Wind Bearing (degrees)  Visibility (km)  Loud Cover  Pressure (millibars)  \\\n",
       "0                   251.0          15.8263         0.0               1015.13   \n",
       "1                   259.0          15.8263         0.0               1015.63   \n",
       "2                   204.0          14.9569         0.0               1015.94   \n",
       "3                   269.0          15.8263         0.0               1016.41   \n",
       "4                   259.0          15.8263         0.0               1016.51   \n",
       "\n",
       "                       Daily Summary  \n",
       "0  Partly cloudy throughout the day.  \n",
       "1  Partly cloudy throughout the day.  \n",
       "2  Partly cloudy throughout the day.  \n",
       "3  Partly cloudy throughout the day.  \n",
       "4  Partly cloudy throughout the day.  "
      ]
     },
     "execution_count": 28,
     "metadata": {},
     "output_type": "execute_result"
    }
   ],
   "source": [
    "df.head()"
   ]
  },
  {
   "cell_type": "code",
   "execution_count": 29,
   "id": "101850bb",
   "metadata": {},
   "outputs": [],
   "source": [
    "df=df.drop(['Formatted Date'],axis=1)"
   ]
  },
  {
   "cell_type": "code",
   "execution_count": 30,
   "id": "8db0898c",
   "metadata": {},
   "outputs": [
    {
     "data": {
      "text/plain": [
       "(3858, 11)"
      ]
     },
     "execution_count": 30,
     "metadata": {},
     "output_type": "execute_result"
    }
   ],
   "source": [
    "training_data = df.sample(frac=0.96, random_state=25)\n",
    "testing_data = df.drop(training_data.index)\n",
    "testing_data.shape"
   ]
  },
  {
   "cell_type": "code",
   "execution_count": 31,
   "id": "b5b57432",
   "metadata": {},
   "outputs": [],
   "source": [
    "df=testing_data"
   ]
  },
  {
   "cell_type": "code",
   "execution_count": 32,
   "id": "d427206f",
   "metadata": {},
   "outputs": [],
   "source": [
    "df=df.drop(['Daily Summary'],axis=1)"
   ]
  },
  {
   "cell_type": "code",
   "execution_count": 33,
   "id": "d01c226c",
   "metadata": {},
   "outputs": [],
   "source": [
    "encoder = LabelEncoder()\n",
    "df['Summary'] = encoder.fit_transform(df['Summary'])"
   ]
  },
  {
   "cell_type": "code",
   "execution_count": 34,
   "id": "20cb2479",
   "metadata": {},
   "outputs": [],
   "source": [
    "encoder = LabelEncoder()\n",
    "df['Precip Type'] = encoder.fit_transform(df['Precip Type'])"
   ]
  },
  {
   "cell_type": "code",
   "execution_count": 35,
   "id": "6bb7852a",
   "metadata": {},
   "outputs": [],
   "source": [
    "df=df.dropna()"
   ]
  },
  {
   "cell_type": "code",
   "execution_count": 36,
   "id": "dc53d9a7",
   "metadata": {},
   "outputs": [
    {
     "name": "stdout",
     "output_type": "stream",
     "text": [
      "<class 'pandas.core.frame.DataFrame'>\n",
      "Int64Index: 3858 entries, 92 to 96409\n",
      "Data columns (total 10 columns):\n",
      " #   Column                    Non-Null Count  Dtype  \n",
      "---  ------                    --------------  -----  \n",
      " 0   Summary                   3858 non-null   int32  \n",
      " 1   Precip Type               3858 non-null   int32  \n",
      " 2   Temperature (C)           3858 non-null   float64\n",
      " 3   Apparent Temperature (C)  3858 non-null   float64\n",
      " 4   Humidity                  3858 non-null   float64\n",
      " 5   Wind Speed (km/h)         3858 non-null   float64\n",
      " 6   Wind Bearing (degrees)    3858 non-null   float64\n",
      " 7   Visibility (km)           3858 non-null   float64\n",
      " 8   Loud Cover                3858 non-null   float64\n",
      " 9   Pressure (millibars)      3858 non-null   float64\n",
      "dtypes: float64(8), int32(2)\n",
      "memory usage: 301.4 KB\n"
     ]
    }
   ],
   "source": [
    "df.info()"
   ]
  },
  {
   "cell_type": "code",
   "execution_count": 37,
   "id": "1fc9e327",
   "metadata": {},
   "outputs": [
    {
     "data": {
      "text/plain": [
       "{0.0}"
      ]
     },
     "execution_count": 37,
     "metadata": {},
     "output_type": "execute_result"
    }
   ],
   "source": [
    "set(df['Loud Cover'])"
   ]
  },
  {
   "cell_type": "code",
   "execution_count": 38,
   "id": "267e0afe",
   "metadata": {},
   "outputs": [
    {
     "name": "stdout",
     "output_type": "stream",
     "text": [
      "New Shape:  (3854, 10)\n"
     ]
    }
   ],
   "source": [
    "import sklearn\n",
    "Q1 = df['Humidity'].quantile(0.25)\n",
    "Q3 = df['Humidity'].quantile(0.75)\n",
    "IQR = Q3 - Q1\n",
    "lower = Q1 - 1.5*IQR\n",
    "upper = Q3 + 1.5*IQR\n",
    " \n",
    "# Create arrays of Boolean values indicating the outlier rows\n",
    "upper_array = df[ (df['Humidity'] >= upper) ].index\n",
    "lower_array =df[ (df['Humidity'] <= lower) ].index\n",
    "\n",
    " \n",
    "# Removing the outliers\n",
    "df.drop(index=upper_array, inplace=True)\n",
    "df.drop(index=lower_array, inplace=True)\n",
    " \n",
    "# Print the new shape of the DataFrame\n",
    "print(\"New Shape: \", df.shape)"
   ]
  },
  {
   "cell_type": "code",
   "execution_count": 39,
   "id": "3e32427c",
   "metadata": {},
   "outputs": [
    {
     "data": {
      "text/html": [
       "<div>\n",
       "<style scoped>\n",
       "    .dataframe tbody tr th:only-of-type {\n",
       "        vertical-align: middle;\n",
       "    }\n",
       "\n",
       "    .dataframe tbody tr th {\n",
       "        vertical-align: top;\n",
       "    }\n",
       "\n",
       "    .dataframe thead th {\n",
       "        text-align: right;\n",
       "    }\n",
       "</style>\n",
       "<table border=\"1\" class=\"dataframe\">\n",
       "  <thead>\n",
       "    <tr style=\"text-align: right;\">\n",
       "      <th></th>\n",
       "      <th>Summary</th>\n",
       "      <th>Precip Type</th>\n",
       "      <th>Temperature (C)</th>\n",
       "      <th>Apparent Temperature (C)</th>\n",
       "      <th>Humidity</th>\n",
       "      <th>Wind Speed (km/h)</th>\n",
       "      <th>Wind Bearing (degrees)</th>\n",
       "      <th>Visibility (km)</th>\n",
       "      <th>Loud Cover</th>\n",
       "      <th>Pressure (millibars)</th>\n",
       "    </tr>\n",
       "  </thead>\n",
       "  <tbody>\n",
       "    <tr>\n",
       "      <th>count</th>\n",
       "      <td>3854.00</td>\n",
       "      <td>3854.00</td>\n",
       "      <td>3854.00</td>\n",
       "      <td>3854.00</td>\n",
       "      <td>3854.00</td>\n",
       "      <td>3854.00</td>\n",
       "      <td>3854.00</td>\n",
       "      <td>3854.00</td>\n",
       "      <td>3854.0</td>\n",
       "      <td>3854.00</td>\n",
       "    </tr>\n",
       "    <tr>\n",
       "      <th>mean</th>\n",
       "      <td>12.52</td>\n",
       "      <td>0.13</td>\n",
       "      <td>11.62</td>\n",
       "      <td>10.50</td>\n",
       "      <td>0.74</td>\n",
       "      <td>10.71</td>\n",
       "      <td>184.77</td>\n",
       "      <td>10.17</td>\n",
       "      <td>0.0</td>\n",
       "      <td>1001.05</td>\n",
       "    </tr>\n",
       "    <tr>\n",
       "      <th>std</th>\n",
       "      <td>3.29</td>\n",
       "      <td>0.35</td>\n",
       "      <td>9.64</td>\n",
       "      <td>10.83</td>\n",
       "      <td>0.20</td>\n",
       "      <td>6.66</td>\n",
       "      <td>108.71</td>\n",
       "      <td>4.23</td>\n",
       "      <td>0.0</td>\n",
       "      <td>127.21</td>\n",
       "    </tr>\n",
       "    <tr>\n",
       "      <th>min</th>\n",
       "      <td>0.00</td>\n",
       "      <td>0.00</td>\n",
       "      <td>-20.00</td>\n",
       "      <td>-23.70</td>\n",
       "      <td>0.19</td>\n",
       "      <td>0.00</td>\n",
       "      <td>0.00</td>\n",
       "      <td>0.00</td>\n",
       "      <td>0.0</td>\n",
       "      <td>0.00</td>\n",
       "    </tr>\n",
       "    <tr>\n",
       "      <th>25%</th>\n",
       "      <td>13.00</td>\n",
       "      <td>0.00</td>\n",
       "      <td>3.99</td>\n",
       "      <td>1.84</td>\n",
       "      <td>0.61</td>\n",
       "      <td>5.94</td>\n",
       "      <td>109.00</td>\n",
       "      <td>8.05</td>\n",
       "      <td>0.0</td>\n",
       "      <td>1012.12</td>\n",
       "    </tr>\n",
       "    <tr>\n",
       "      <th>50%</th>\n",
       "      <td>13.00</td>\n",
       "      <td>0.00</td>\n",
       "      <td>11.19</td>\n",
       "      <td>11.19</td>\n",
       "      <td>0.79</td>\n",
       "      <td>9.80</td>\n",
       "      <td>176.00</td>\n",
       "      <td>9.98</td>\n",
       "      <td>0.0</td>\n",
       "      <td>1016.78</td>\n",
       "    </tr>\n",
       "    <tr>\n",
       "      <th>75%</th>\n",
       "      <td>15.00</td>\n",
       "      <td>0.00</td>\n",
       "      <td>18.73</td>\n",
       "      <td>18.73</td>\n",
       "      <td>0.90</td>\n",
       "      <td>14.12</td>\n",
       "      <td>289.00</td>\n",
       "      <td>14.22</td>\n",
       "      <td>0.0</td>\n",
       "      <td>1021.35</td>\n",
       "    </tr>\n",
       "    <tr>\n",
       "      <th>max</th>\n",
       "      <td>17.00</td>\n",
       "      <td>2.00</td>\n",
       "      <td>37.17</td>\n",
       "      <td>38.12</td>\n",
       "      <td>1.00</td>\n",
       "      <td>47.53</td>\n",
       "      <td>359.00</td>\n",
       "      <td>16.10</td>\n",
       "      <td>0.0</td>\n",
       "      <td>1044.62</td>\n",
       "    </tr>\n",
       "  </tbody>\n",
       "</table>\n",
       "</div>"
      ],
      "text/plain": [
       "       Summary  Precip Type  Temperature (C)  Apparent Temperature (C)  \\\n",
       "count  3854.00      3854.00          3854.00                   3854.00   \n",
       "mean     12.52         0.13            11.62                     10.50   \n",
       "std       3.29         0.35             9.64                     10.83   \n",
       "min       0.00         0.00           -20.00                    -23.70   \n",
       "25%      13.00         0.00             3.99                      1.84   \n",
       "50%      13.00         0.00            11.19                     11.19   \n",
       "75%      15.00         0.00            18.73                     18.73   \n",
       "max      17.00         2.00            37.17                     38.12   \n",
       "\n",
       "       Humidity  Wind Speed (km/h)  Wind Bearing (degrees)  Visibility (km)  \\\n",
       "count   3854.00            3854.00                 3854.00          3854.00   \n",
       "mean       0.74              10.71                  184.77            10.17   \n",
       "std        0.20               6.66                  108.71             4.23   \n",
       "min        0.19               0.00                    0.00             0.00   \n",
       "25%        0.61               5.94                  109.00             8.05   \n",
       "50%        0.79               9.80                  176.00             9.98   \n",
       "75%        0.90              14.12                  289.00            14.22   \n",
       "max        1.00              47.53                  359.00            16.10   \n",
       "\n",
       "       Loud Cover  Pressure (millibars)  \n",
       "count      3854.0               3854.00  \n",
       "mean          0.0               1001.05  \n",
       "std           0.0                127.21  \n",
       "min           0.0                  0.00  \n",
       "25%           0.0               1012.12  \n",
       "50%           0.0               1016.78  \n",
       "75%           0.0               1021.35  \n",
       "max           0.0               1044.62  "
      ]
     },
     "execution_count": 39,
     "metadata": {},
     "output_type": "execute_result"
    }
   ],
   "source": [
    "df.describe().round(2)"
   ]
  },
  {
   "cell_type": "code",
   "execution_count": 40,
   "id": "5c7ab9ef",
   "metadata": {},
   "outputs": [
    {
     "data": {
      "text/plain": [
       "Index(['Summary', 'Precip Type', 'Temperature (C)', 'Apparent Temperature (C)',\n",
       "       'Humidity', 'Wind Speed (km/h)', 'Wind Bearing (degrees)',\n",
       "       'Visibility (km)', 'Loud Cover', 'Pressure (millibars)'],\n",
       "      dtype='object')"
      ]
     },
     "execution_count": 40,
     "metadata": {},
     "output_type": "execute_result"
    }
   ],
   "source": [
    "df.columns"
   ]
  },
  {
   "cell_type": "code",
   "execution_count": 41,
   "id": "350dd08b",
   "metadata": {},
   "outputs": [
    {
     "name": "stderr",
     "output_type": "stream",
     "text": [
      "G:\\Anaconda\\lib\\site-packages\\sklearn\\cluster\\_kmeans.py:870: FutureWarning: The default value of `n_init` will change from 10 to 'auto' in 1.4. Set the value of `n_init` explicitly to suppress the warning\n",
      "  warnings.warn(\n",
      "G:\\Anaconda\\lib\\site-packages\\sklearn\\cluster\\_kmeans.py:870: FutureWarning: The default value of `n_init` will change from 10 to 'auto' in 1.4. Set the value of `n_init` explicitly to suppress the warning\n",
      "  warnings.warn(\n",
      "G:\\Anaconda\\lib\\site-packages\\sklearn\\cluster\\_kmeans.py:870: FutureWarning: The default value of `n_init` will change from 10 to 'auto' in 1.4. Set the value of `n_init` explicitly to suppress the warning\n",
      "  warnings.warn(\n",
      "G:\\Anaconda\\lib\\site-packages\\sklearn\\cluster\\_kmeans.py:870: FutureWarning: The default value of `n_init` will change from 10 to 'auto' in 1.4. Set the value of `n_init` explicitly to suppress the warning\n",
      "  warnings.warn(\n",
      "G:\\Anaconda\\lib\\site-packages\\sklearn\\cluster\\_kmeans.py:870: FutureWarning: The default value of `n_init` will change from 10 to 'auto' in 1.4. Set the value of `n_init` explicitly to suppress the warning\n",
      "  warnings.warn(\n",
      "G:\\Anaconda\\lib\\site-packages\\sklearn\\cluster\\_kmeans.py:870: FutureWarning: The default value of `n_init` will change from 10 to 'auto' in 1.4. Set the value of `n_init` explicitly to suppress the warning\n",
      "  warnings.warn(\n",
      "G:\\Anaconda\\lib\\site-packages\\sklearn\\cluster\\_kmeans.py:870: FutureWarning: The default value of `n_init` will change from 10 to 'auto' in 1.4. Set the value of `n_init` explicitly to suppress the warning\n",
      "  warnings.warn(\n",
      "G:\\Anaconda\\lib\\site-packages\\sklearn\\cluster\\_kmeans.py:870: FutureWarning: The default value of `n_init` will change from 10 to 'auto' in 1.4. Set the value of `n_init` explicitly to suppress the warning\n",
      "  warnings.warn(\n"
     ]
    },
    {
     "data": {
      "image/png": "[encoded data removed]",
      "text/plain": [
       "<Figure size 576x396 with 2 Axes>"
      ]
     },
     "metadata": {},
     "output_type": "display_data"
    },
    {
     "data": {
      "text/plain": [
       "<AxesSubplot:title={'center':'Distortion Score Elbow for KMeans Clustering'}, xlabel='k', ylabel='distortion score'>"
      ]
     },
     "execution_count": 41,
     "metadata": {},
     "output_type": "execute_result"
    }
   ],
   "source": [
    "#Elbow Curve\n",
    "model = KMeans()\n",
    "\n",
    "visualizer = KElbowVisualizer(model, k=(2,10), timings= True)\n",
    "visualizer.fit(df)\n",
    "visualizer.show()  "
   ]
  },
  {
   "cell_type": "code",
   "execution_count": 42,
   "id": "64c759d5",
   "metadata": {},
   "outputs": [
    {
     "name": "stderr",
     "output_type": "stream",
     "text": [
      "G:\\Anaconda\\lib\\site-packages\\sklearn\\cluster\\_kmeans.py:870: FutureWarning: The default value of `n_init` will change from 10 to 'auto' in 1.4. Set the value of `n_init` explicitly to suppress the warning\n",
      "  warnings.warn(\n",
      "G:\\Anaconda\\lib\\site-packages\\sklearn\\cluster\\_kmeans.py:870: FutureWarning: The default value of `n_init` will change from 10 to 'auto' in 1.4. Set the value of `n_init` explicitly to suppress the warning\n",
      "  warnings.warn(\n",
      "G:\\Anaconda\\lib\\site-packages\\sklearn\\cluster\\_kmeans.py:870: FutureWarning: The default value of `n_init` will change from 10 to 'auto' in 1.4. Set the value of `n_init` explicitly to suppress the warning\n",
      "  warnings.warn(\n",
      "G:\\Anaconda\\lib\\site-packages\\sklearn\\cluster\\_kmeans.py:870: FutureWarning: The default value of `n_init` will change from 10 to 'auto' in 1.4. Set the value of `n_init` explicitly to suppress the warning\n",
      "  warnings.warn(\n",
      "G:\\Anaconda\\lib\\site-packages\\sklearn\\cluster\\_kmeans.py:870: FutureWarning: The default value of `n_init` will change from 10 to 'auto' in 1.4. Set the value of `n_init` explicitly to suppress the warning\n",
      "  warnings.warn(\n",
      "G:\\Anaconda\\lib\\site-packages\\sklearn\\cluster\\_kmeans.py:870: FutureWarning: The default value of `n_init` will change from 10 to 'auto' in 1.4. Set the value of `n_init` explicitly to suppress the warning\n",
      "  warnings.warn(\n",
      "G:\\Anaconda\\lib\\site-packages\\sklearn\\cluster\\_kmeans.py:870: FutureWarning: The default value of `n_init` will change from 10 to 'auto' in 1.4. Set the value of `n_init` explicitly to suppress the warning\n",
      "  warnings.warn(\n",
      "G:\\Anaconda\\lib\\site-packages\\sklearn\\cluster\\_kmeans.py:870: FutureWarning: The default value of `n_init` will change from 10 to 'auto' in 1.4. Set the value of `n_init` explicitly to suppress the warning\n",
      "  warnings.warn(\n"
     ]
    },
    {
     "data": {
      "image/png": "[encoded data removed]",
      "text/plain": [
       "<Figure size 576x396 with 2 Axes>"
      ]
     },
     "metadata": {},
     "output_type": "display_data"
    },
    {
     "data": {
      "text/plain": [
       "<AxesSubplot:title={'center':'Silhouette Score Elbow for KMeans Clustering'}, xlabel='k', ylabel='silhouette score'>"
      ]
     },
     "execution_count": 42,
     "metadata": {},
     "output_type": "execute_result"
    }
   ],
   "source": [
    "visualizer = KElbowVisualizer(model, k=(2,10),metric='silhouette', timings= True)\n",
    "visualizer.fit(df)\n",
    "visualizer.show()  "
   ]
  },
  {
   "cell_type": "code",
   "execution_count": 43,
   "id": "27896697",
   "metadata": {},
   "outputs": [
    {
     "name": "stderr",
     "output_type": "stream",
     "text": [
      "G:\\Anaconda\\lib\\site-packages\\sklearn\\cluster\\_kmeans.py:870: FutureWarning: The default value of `n_init` will change from 10 to 'auto' in 1.4. Set the value of `n_init` explicitly to suppress the warning\n",
      "  warnings.warn(\n",
      "G:\\Anaconda\\lib\\site-packages\\sklearn\\cluster\\_kmeans.py:870: FutureWarning: The default value of `n_init` will change from 10 to 'auto' in 1.4. Set the value of `n_init` explicitly to suppress the warning\n",
      "  warnings.warn(\n",
      "G:\\Anaconda\\lib\\site-packages\\sklearn\\cluster\\_kmeans.py:870: FutureWarning: The default value of `n_init` will change from 10 to 'auto' in 1.4. Set the value of `n_init` explicitly to suppress the warning\n",
      "  warnings.warn(\n",
      "G:\\Anaconda\\lib\\site-packages\\sklearn\\cluster\\_kmeans.py:870: FutureWarning: The default value of `n_init` will change from 10 to 'auto' in 1.4. Set the value of `n_init` explicitly to suppress the warning\n",
      "  warnings.warn(\n",
      "G:\\Anaconda\\lib\\site-packages\\sklearn\\cluster\\_kmeans.py:870: FutureWarning: The default value of `n_init` will change from 10 to 'auto' in 1.4. Set the value of `n_init` explicitly to suppress the warning\n",
      "  warnings.warn(\n",
      "G:\\Anaconda\\lib\\site-packages\\sklearn\\cluster\\_kmeans.py:870: FutureWarning: The default value of `n_init` will change from 10 to 'auto' in 1.4. Set the value of `n_init` explicitly to suppress the warning\n",
      "  warnings.warn(\n",
      "G:\\Anaconda\\lib\\site-packages\\sklearn\\cluster\\_kmeans.py:870: FutureWarning: The default value of `n_init` will change from 10 to 'auto' in 1.4. Set the value of `n_init` explicitly to suppress the warning\n",
      "  warnings.warn(\n",
      "G:\\Anaconda\\lib\\site-packages\\sklearn\\cluster\\_kmeans.py:870: FutureWarning: The default value of `n_init` will change from 10 to 'auto' in 1.4. Set the value of `n_init` explicitly to suppress the warning\n",
      "  warnings.warn(\n"
     ]
    },
    {
     "data": {
      "image/png": "[encoded data removed]",
      "text/plain": [
       "<Figure size 576x396 with 2 Axes>"
      ]
     },
     "metadata": {},
     "output_type": "display_data"
    },
    {
     "data": {
      "text/plain": [
       "<AxesSubplot:title={'center':'Calinski Harabasz Score Elbow for KMeans Clustering'}, xlabel='k', ylabel='calinski harabasz score'>"
      ]
     },
     "execution_count": 43,
     "metadata": {},
     "output_type": "execute_result"
    }
   ],
   "source": [
    "from yellowbrick.cluster import KElbowVisualizer\n",
    "model = KMeans()\n",
    "\n",
    "visualizer = KElbowVisualizer(model, k=(2,10\n",
    "                                       ),metric='calinski_harabasz', timings= True)\n",
    "visualizer.fit(df)        # Fit the data to the visualizer\n",
    "visualizer.show()"
   ]
  },
  {
   "cell_type": "code",
   "execution_count": 44,
   "id": "46a9d5da",
   "metadata": {},
   "outputs": [
    {
     "name": "stderr",
     "output_type": "stream",
     "text": [
      "G:\\Anaconda\\lib\\site-packages\\sklearn\\cluster\\_kmeans.py:870: FutureWarning: The default value of `n_init` will change from 10 to 'auto' in 1.4. Set the value of `n_init` explicitly to suppress the warning\n",
      "  warnings.warn(\n",
      "G:\\Anaconda\\lib\\site-packages\\sklearn\\cluster\\_kmeans.py:870: FutureWarning: The default value of `n_init` will change from 10 to 'auto' in 1.4. Set the value of `n_init` explicitly to suppress the warning\n",
      "  warnings.warn(\n",
      "G:\\Anaconda\\lib\\site-packages\\sklearn\\cluster\\_kmeans.py:870: FutureWarning: The default value of `n_init` will change from 10 to 'auto' in 1.4. Set the value of `n_init` explicitly to suppress the warning\n",
      "  warnings.warn(\n",
      "G:\\Anaconda\\lib\\site-packages\\sklearn\\cluster\\_kmeans.py:870: FutureWarning: The default value of `n_init` will change from 10 to 'auto' in 1.4. Set the value of `n_init` explicitly to suppress the warning\n",
      "  warnings.warn(\n",
      "G:\\Anaconda\\lib\\site-packages\\sklearn\\cluster\\_kmeans.py:870: FutureWarning: The default value of `n_init` will change from 10 to 'auto' in 1.4. Set the value of `n_init` explicitly to suppress the warning\n",
      "  warnings.warn(\n",
      "G:\\Anaconda\\lib\\site-packages\\sklearn\\cluster\\_kmeans.py:870: FutureWarning: The default value of `n_init` will change from 10 to 'auto' in 1.4. Set the value of `n_init` explicitly to suppress the warning\n",
      "  warnings.warn(\n",
      "G:\\Anaconda\\lib\\site-packages\\sklearn\\cluster\\_kmeans.py:870: FutureWarning: The default value of `n_init` will change from 10 to 'auto' in 1.4. Set the value of `n_init` explicitly to suppress the warning\n",
      "  warnings.warn(\n",
      "G:\\Anaconda\\lib\\site-packages\\sklearn\\cluster\\_kmeans.py:870: FutureWarning: The default value of `n_init` will change from 10 to 'auto' in 1.4. Set the value of `n_init` explicitly to suppress the warning\n",
      "  warnings.warn(\n",
      "G:\\Anaconda\\lib\\site-packages\\sklearn\\cluster\\_kmeans.py:870: FutureWarning: The default value of `n_init` will change from 10 to 'auto' in 1.4. Set the value of `n_init` explicitly to suppress the warning\n",
      "  warnings.warn(\n",
      "G:\\Anaconda\\lib\\site-packages\\sklearn\\cluster\\_kmeans.py:870: FutureWarning: The default value of `n_init` will change from 10 to 'auto' in 1.4. Set the value of `n_init` explicitly to suppress the warning\n",
      "  warnings.warn(\n",
      "G:\\Anaconda\\lib\\site-packages\\sklearn\\cluster\\_kmeans.py:870: FutureWarning: The default value of `n_init` will change from 10 to 'auto' in 1.4. Set the value of `n_init` explicitly to suppress the warning\n",
      "  warnings.warn(\n",
      "G:\\Anaconda\\lib\\site-packages\\sklearn\\cluster\\_kmeans.py:870: FutureWarning: The default value of `n_init` will change from 10 to 'auto' in 1.4. Set the value of `n_init` explicitly to suppress the warning\n",
      "  warnings.warn(\n",
      "G:\\Anaconda\\lib\\site-packages\\sklearn\\cluster\\_kmeans.py:870: FutureWarning: The default value of `n_init` will change from 10 to 'auto' in 1.4. Set the value of `n_init` explicitly to suppress the warning\n",
      "  warnings.warn(\n",
      "G:\\Anaconda\\lib\\site-packages\\sklearn\\cluster\\_kmeans.py:870: FutureWarning: The default value of `n_init` will change from 10 to 'auto' in 1.4. Set the value of `n_init` explicitly to suppress the warning\n",
      "  warnings.warn(\n",
      "G:\\Anaconda\\lib\\site-packages\\sklearn\\cluster\\_kmeans.py:870: FutureWarning: The default value of `n_init` will change from 10 to 'auto' in 1.4. Set the value of `n_init` explicitly to suppress the warning\n",
      "  warnings.warn(\n",
      "G:\\Anaconda\\lib\\site-packages\\sklearn\\cluster\\_kmeans.py:870: FutureWarning: The default value of `n_init` will change from 10 to 'auto' in 1.4. Set the value of `n_init` explicitly to suppress the warning\n",
      "  warnings.warn(\n",
      "G:\\Anaconda\\lib\\site-packages\\sklearn\\cluster\\_kmeans.py:870: FutureWarning: The default value of `n_init` will change from 10 to 'auto' in 1.4. Set the value of `n_init` explicitly to suppress the warning\n",
      "  warnings.warn(\n",
      "G:\\Anaconda\\lib\\site-packages\\sklearn\\cluster\\_kmeans.py:870: FutureWarning: The default value of `n_init` will change from 10 to 'auto' in 1.4. Set the value of `n_init` explicitly to suppress the warning\n",
      "  warnings.warn(\n"
     ]
    },
    {
     "data": {
      "image/png": "[encoded data removed]",
      "text/plain": [
       "<Figure size 576x396 with 1 Axes>"
      ]
     },
     "metadata": {},
     "output_type": "display_data"
    }
   ],
   "source": [
    "def get_kmeans_score(data, center):\n",
    "    kmeans = KMeans(n_clusters=center)\n",
    "    model = kmeans.fit_predict(df)\n",
    "    score = davies_bouldin_score(df, model)\n",
    "    \n",
    "    return score\n",
    "scores = []\n",
    "centers = list(range(2,20))\n",
    "for center in centers:\n",
    "    scores.append(get_kmeans_score(df, center))\n",
    "    \n",
    "plt.plot(centers, scores, linestyle='--', marker='o', color='b');\n",
    "plt.xlabel('K');\n",
    "plt.ylabel('Davies Bouldin score');\n",
    "plt.title('Davies Bouldin score vs. K');"
   ]
  },
  {
   "cell_type": "code",
   "execution_count": 54,
   "id": "bd673df0",
   "metadata": {},
   "outputs": [
    {
     "data": {
      "image/png": "[encoded data removed]",
      "text/plain": [
       "<Figure size 720x504 with 1 Axes>"
      ]
     },
     "metadata": {},
     "output_type": "display_data"
    }
   ],
   "source": [
    "# Dendogram for Heirarchical Clustering\n",
    "\n",
    "pyplot.figure(figsize=(10, 7))  \n",
    "pyplot.title(\"Dendrograms\")  \n",
    "dend = shc.dendrogram(shc.linkage(df, method='ward'))"
   ]
  },
  {
   "cell_type": "code",
   "execution_count": 47,
   "id": "4c3bfe6f",
   "metadata": {},
   "outputs": [
    {
     "name": "stderr",
     "output_type": "stream",
     "text": [
      "G:\\Anaconda\\lib\\site-packages\\sklearn\\cluster\\_kmeans.py:870: FutureWarning: The default value of `n_init` will change from 10 to 'auto' in 1.4. Set the value of `n_init` explicitly to suppress the warning\n",
      "  warnings.warn(\n"
     ]
    },
    {
     "name": "stdout",
     "output_type": "stream",
     "text": [
      "Davies-Bouldin Index: 0.4019500055909108\n",
      "Silhouette Score: 0.6087398963007942\n"
     ]
    }
   ],
   "source": [
    "X=df\n",
    "kmeans = KMeans(n_clusters=4, random_state=42)\n",
    "kmeans.fit_predict(X)\n",
    "kmeans_labels = kmeans.predict(X)\n",
    "print(\"Davies-Bouldin Index:\", davies_bouldin_score(X, kmeans_labels))\n",
    "print(\"Silhouette Score:\", silhouette_score(X, kmeans_labels))"
   ]
  },
  {
   "cell_type": "code",
   "execution_count": 48,
   "id": "4da6e6e1",
   "metadata": {},
   "outputs": [
    {
     "name": "stdout",
     "output_type": "stream",
     "text": [
      "Number of clusters: 4\n",
      "Silhouette score: 0.8673598558623916\n",
      "Davies-Bouldin score: 0.43513224359703806\n"
     ]
    }
   ],
   "source": [
    "X=df\n",
    "ms = MeanShift().fit(X)\n",
    "ms_labels = ms.labels_\n",
    "n_clusters_ = len(set(ms_labels))\n",
    "print(\"Number of clusters:\", n_clusters_)\n",
    "\n",
    "silhouette_avg = silhouette_score(X, ms_labels)\n",
    "print(\"Silhouette score:\", silhouette_avg)\n",
    "db_score = davies_bouldin_score(X, ms_labels)\n",
    "print(\"Davies-Bouldin score:\", db_score)"
   ]
  },
  {
   "cell_type": "code",
   "execution_count": 49,
   "id": "146bfcc8",
   "metadata": {},
   "outputs": [
    {
     "name": "stdout",
     "output_type": "stream",
     "text": [
      "Silhouette score: 0.5880398367328602\n",
      "Davies-Bouldin score: 0.4056846843858817\n"
     ]
    }
   ],
   "source": [
    "X=df\n",
    "agg = AgglomerativeClustering(n_clusters=4, linkage='ward')\n",
    "agg.fit(X)\n",
    "agg_labels = agg.labels_\n",
    "silhouette_avg = silhouette_score(X, agg_labels)\n",
    "print(\"Silhouette score:\", silhouette_avg)\n",
    "db_score = davies_bouldin_score(X, agg_labels)\n",
    "print(\"Davies-Bouldin score:\", db_score)"
   ]
  },
  {
   "cell_type": "code",
   "execution_count": 50,
   "id": "bdf5e58b",
   "metadata": {},
   "outputs": [
    {
     "name": "stderr",
     "output_type": "stream",
     "text": [
      "G:\\Anaconda\\lib\\site-packages\\sklearn\\manifold\\_spectral_embedding.py:274: UserWarning: Graph is not fully connected, spectral embedding may not work as expected.\n",
      "  warnings.warn(\n"
     ]
    },
    {
     "name": "stdout",
     "output_type": "stream",
     "text": [
      "Silhouette score: 0.6059248817745929\n",
      "Davies-Bouldin score: 0.4014006114350412\n"
     ]
    }
   ],
   "source": [
    "X=df\n",
    "spectral = SpectralClustering(n_clusters=4\n",
    "                              , affinity='nearest_neighbors', n_neighbors=10)\n",
    "spectral.fit(X)\n",
    "spectral_labels = spectral.labels_\n",
    "print(\"Silhouette score:\",  silhouette_score(X, spectral_labels))\n",
    "print(\"Davies-Bouldin score:\", davies_bouldin_score(X, spectral_labels))"
   ]
  },
  {
   "cell_type": "code",
   "execution_count": 51,
   "id": "12919153",
   "metadata": {},
   "outputs": [
    {
     "name": "stdout",
     "output_type": "stream",
     "text": [
      "Davies-Bouldin score: 1.870064416389325\n",
      "Silhouette score: -0.5612942544980799\n"
     ]
    }
   ],
   "source": [
    "X=df\n",
    "optics = OPTICS(min_samples=4)\n",
    "optics.fit(X)\n",
    "optics_labels = optics.labels_\n",
    "\n",
    "print(\"Davies-Bouldin score:\", davies_bouldin_score(X, optics_labels))\n",
    "print(\"Silhouette score:\", silhouette_score(X, optics_labels))"
   ]
  },
  {
   "cell_type": "code",
   "execution_count": 52,
   "id": "5d561c58",
   "metadata": {},
   "outputs": [
    {
     "name": "stdout",
     "output_type": "stream",
     "text": [
      "Davies-Bouldin Score:  0.4056846843858817\n",
      "Silhouette Score:  0.5880398367328602\n"
     ]
    }
   ],
   "source": [
    "X=df\n",
    "birch = Birch(n_clusters=4)\n",
    "birch.fit(X)\n",
    "birch_labels = birch.predict(X)\n",
    "db_score = davies_bouldin_score(X, birch_labels)\n",
    "silhouette_avg = silhouette_score(X, birch_labels)\n",
    "print(\"Davies-Bouldin Score: \", db_score)\n",
    "print(\"Silhouette Score: \", silhouette_avg)"
   ]
  },
  {
   "cell_type": "code",
   "execution_count": 24,
   "id": "edafd5d5",
   "metadata": {},
   "outputs": [],
   "source": [
    "#Ensemble Construction"
   ]
  },
  {
   "cell_type": "code",
   "execution_count": 53,
   "id": "33382684",
   "metadata": {},
   "outputs": [
    {
     "name": "stdout",
     "output_type": "stream",
     "text": [
      "Davies-Bouldin Score:  0.18469459745391353\n",
      "Silhouette Score: 0.8737063980122016\n"
     ]
    }
   ],
   "source": [
    "ensembling_labels = np.array([])\n",
    "for i in range(len(X)):\n",
    "    labels = [ms_labels[i],birch_labels[i]]\n",
    "    ensembling_labels=np.append(ensembling_labels,mode(labels)[0])\n",
    "print(\"Davies-Bouldin Score: \",davies_bouldin_score(X, ensembling_labels))\n",
    "print(\"Silhouette Score:\", silhouette_score(X, ensembling_labels))"
   ]
  },
  {
   "cell_type": "code",
   "execution_count": null,
   "id": "740156d1",
   "metadata": {},
   "outputs": [],
   "source": []
  }
 ],
 "metadata": {
  "kernelspec": {
   "display_name": "Python 3",
   "language": "python",
   "name": "python3"
  },
  "language_info": {
   "codemirror_mode": {
    "name": "ipython",
    "version": 3
   },
   "file_extension": ".py",
   "mimetype": "text/x-python",
   "name": "python",
   "nbconvert_exporter": "python",
   "pygments_lexer": "ipython3",
   "version": "3.8.8"
  }
 },
 "nbformat": 4,
 "nbformat_minor": 5
}
